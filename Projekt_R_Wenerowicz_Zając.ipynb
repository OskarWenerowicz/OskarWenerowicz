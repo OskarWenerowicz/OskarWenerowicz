{
 "cells": [
  {
   "cell_type": "markdown",
   "id": "a1f36a97",
   "metadata": {},
   "source": [
    "Wykorzystanie modelu ekonometrycznego\n",
    "do oszacowania wpływu parametrów\n",
    "technicznych samolotów jednosilnikowych\n",
    "na ich cenę <br> \n",
    "Projekt zaliczeniowy z przedmiotu: <br> Narzędzia ekonometryczne w analizie danych"
   ]
  },
  {
   "cell_type": "markdown",
   "id": "1a50b23d",
   "metadata": {},
   "source": [
    "1. Określenie problemu badawczego <br> \n",
    "Przeprowadzona w projekcie analiza miała na celu zbadanie zależności pomiędzy\n",
    "parametrami technicznymi, a ceną samolotów jednosilnikowych produkowanych w latach\n",
    "1947 – 1979 r."
   ]
  },
  {
   "cell_type": "markdown",
   "id": "52d72a80",
   "metadata": {},
   "source": [
    "2. Opis wykorzystanych danych\n",
    "Wykorzystane w analizie dane pochodzą z pakietu „robustbase” dostępnego w R-Studio.\n",
    "Dotyczą one 23 jednosilnikowych samolotów zbudowanych w latach 1947-1979 oraz pochodzą\n",
    "z Office of Naval Research. <br> Źródło: P. J. Rousseeuw and A. M. Leroy (1987) Robust\n",
    "Regression and Outlier Detection; Wiley, page 154, table 22.\n",
    "Do analizy wykorzystano zbiór danych zawierający 1 zmienną objaśnianą i 4 zmienne\n",
    "objaśniające: <br>\n",
    "• Y – Cena samolotu (w 100 000$);<br>\n",
    "• X1 – Aspect ratio (pl. wydłużenie płata – oblicza się je dzieląc kwadrat rozpiętości przez\n",
    "powierzchnię nośną);<br>\n",
    "• X2 – Lift-to-Drag Ratio (pl. doskonałość aerodynamiczna - stosunek współczynnika\n",
    "siły nośnej do współczynnika oporu);<br>\n",
    "• X3 – waga samolotu (w funtach);<br>\n",
    "• X4 – maksymalny ciąg"
   ]
  },
  {
   "cell_type": "code",
   "execution_count": null,
   "id": "b4a44ae9",
   "metadata": {},
   "outputs": [],
   "source": [
    "install.packages(\"olsrr\")\n",
    "install.packages(\"robustbase\")"
   ]
  },
  {
   "cell_type": "code",
   "execution_count": null,
   "id": "94fa5d99",
   "metadata": {},
   "outputs": [],
   "source": [
    "library(olsrr)\n",
    "library(robustbase)"
   ]
  },
  {
   "cell_type": "code",
   "execution_count": 20,
   "id": "ce5ac480",
   "metadata": {},
   "outputs": [
    {
     "data": {
      "text/html": [
       "<table>\n",
       "<thead><tr><th scope=col>X1</th><th scope=col>X2</th><th scope=col>X3</th><th scope=col>X4</th><th scope=col>Y</th></tr></thead>\n",
       "<tbody>\n",
       "\t<tr><td>6.3  </td><td>1.7  </td><td> 8176</td><td> 4500</td><td> 2.76</td></tr>\n",
       "\t<tr><td>6.0  </td><td>1.9  </td><td> 6699</td><td> 3120</td><td> 4.76</td></tr>\n",
       "\t<tr><td>5.9  </td><td>1.5  </td><td> 9663</td><td> 6300</td><td> 8.75</td></tr>\n",
       "\t<tr><td>3.0  </td><td>1.2  </td><td>12837</td><td> 9800</td><td> 7.78</td></tr>\n",
       "\t<tr><td>5.0  </td><td>1.8  </td><td>10205</td><td> 4900</td><td> 6.18</td></tr>\n",
       "\t<tr><td>6.3  </td><td>2.0  </td><td>14890</td><td> 6500</td><td> 9.50</td></tr>\n",
       "\t<tr><td>5.6  </td><td>1.6  </td><td>13836</td><td> 8920</td><td> 5.14</td></tr>\n",
       "\t<tr><td>3.6  </td><td>1.2  </td><td>11628</td><td>14500</td><td> 4.76</td></tr>\n",
       "\t<tr><td>2.0  </td><td>1.4  </td><td>15225</td><td>14800</td><td>16.70</td></tr>\n",
       "\t<tr><td>2.9  </td><td>2.3  </td><td>18691</td><td>10900</td><td>27.68</td></tr>\n",
       "</tbody>\n",
       "</table>\n"
      ],
      "text/latex": [
       "\\begin{tabular}{r|lllll}\n",
       " X1 & X2 & X3 & X4 & Y\\\\\n",
       "\\hline\n",
       "\t 6.3   & 1.7   &  8176 &  4500 &  2.76\\\\\n",
       "\t 6.0   & 1.9   &  6699 &  3120 &  4.76\\\\\n",
       "\t 5.9   & 1.5   &  9663 &  6300 &  8.75\\\\\n",
       "\t 3.0   & 1.2   & 12837 &  9800 &  7.78\\\\\n",
       "\t 5.0   & 1.8   & 10205 &  4900 &  6.18\\\\\n",
       "\t 6.3   & 2.0   & 14890 &  6500 &  9.50\\\\\n",
       "\t 5.6   & 1.6   & 13836 &  8920 &  5.14\\\\\n",
       "\t 3.6   & 1.2   & 11628 & 14500 &  4.76\\\\\n",
       "\t 2.0   & 1.4   & 15225 & 14800 & 16.70\\\\\n",
       "\t 2.9   & 2.3   & 18691 & 10900 & 27.68\\\\\n",
       "\\end{tabular}\n"
      ],
      "text/markdown": [
       "\n",
       "| X1 | X2 | X3 | X4 | Y |\n",
       "|---|---|---|---|---|\n",
       "| 6.3   | 1.7   |  8176 |  4500 |  2.76 |\n",
       "| 6.0   | 1.9   |  6699 |  3120 |  4.76 |\n",
       "| 5.9   | 1.5   |  9663 |  6300 |  8.75 |\n",
       "| 3.0   | 1.2   | 12837 |  9800 |  7.78 |\n",
       "| 5.0   | 1.8   | 10205 |  4900 |  6.18 |\n",
       "| 6.3   | 2.0   | 14890 |  6500 |  9.50 |\n",
       "| 5.6   | 1.6   | 13836 |  8920 |  5.14 |\n",
       "| 3.6   | 1.2   | 11628 | 14500 |  4.76 |\n",
       "| 2.0   | 1.4   | 15225 | 14800 | 16.70 |\n",
       "| 2.9   | 2.3   | 18691 | 10900 | 27.68 |\n",
       "\n"
      ],
      "text/plain": [
       "   X1  X2  X3    X4    Y    \n",
       "1  6.3 1.7  8176  4500  2.76\n",
       "2  6.0 1.9  6699  3120  4.76\n",
       "3  5.9 1.5  9663  6300  8.75\n",
       "4  3.0 1.2 12837  9800  7.78\n",
       "5  5.0 1.8 10205  4900  6.18\n",
       "6  6.3 2.0 14890  6500  9.50\n",
       "7  5.6 1.6 13836  8920  5.14\n",
       "8  3.6 1.2 11628 14500  4.76\n",
       "9  2.0 1.4 15225 14800 16.70\n",
       "10 2.9 2.3 18691 10900 27.68"
      ]
     },
     "metadata": {},
     "output_type": "display_data"
    }
   ],
   "source": [
    "# dane \"aircraft\" z pakietu robustbase \n",
    "\n",
    "data(aircraft, package=\"robustbase\")\n",
    "head(aircraft, 10)"
   ]
  },
  {
   "cell_type": "markdown",
   "id": "6b2bcbe0",
   "metadata": {},
   "source": [
    "### Stworzenie modelu"
   ]
  },
  {
   "cell_type": "code",
   "execution_count": 22,
   "id": "affe6f73",
   "metadata": {
    "scrolled": false
   },
   "outputs": [
    {
     "data": {
      "text/plain": [
       "\n",
       "Call:\n",
       "lm(formula = Y ~ X1 + X2 + X3 + X4, data = aircraft)\n",
       "\n",
       "Residuals:\n",
       "    Min      1Q  Median      3Q     Max \n",
       "-14.891  -3.955  -1.233   5.753  17.594 \n",
       "\n",
       "Coefficients:\n",
       "              Estimate Std. Error t value Pr(>|t|)    \n",
       "(Intercept) -3.7913892 10.1157023  -0.375  0.71219    \n",
       "X1          -3.8529189  1.7630016  -2.185  0.04232 *  \n",
       "X2           2.4882665  1.1867538   2.097  0.05042 .  \n",
       "X3           0.0034988  0.0004790   7.305 8.72e-07 ***\n",
       "X4          -0.0019537  0.0004986  -3.918  0.00101 ** \n",
       "---\n",
       "Signif. codes:  0 '***' 0.001 '**' 0.01 '*' 0.05 '.' 0.1 ' ' 1\n",
       "\n",
       "Residual standard error: 8.406 on 18 degrees of freedom\n",
       "Multiple R-squared:  0.8836,\tAdjusted R-squared:  0.8578 \n",
       "F-statistic: 34.17 on 4 and 18 DF,  p-value: 3.501e-08\n"
      ]
     },
     "metadata": {},
     "output_type": "display_data"
    }
   ],
   "source": [
    "# model nr 1\n",
    "model_1 <- lm(data = aircraft, Y~X1+X2+X3+X4)\n",
    "summary(model_1)"
   ]
  },
  {
   "cell_type": "code",
   "execution_count": 23,
   "id": "08c33f93",
   "metadata": {},
   "outputs": [
    {
     "data": {
      "text/plain": [
       "\n",
       "Call:\n",
       "lm(formula = Y ~ X1 + X3 + X4, data = aircraft)\n",
       "\n",
       "Residuals:\n",
       "    Min      1Q  Median      3Q     Max \n",
       "-14.818  -5.673  -1.435   4.419  19.448 \n",
       "\n",
       "Coefficients:\n",
       "              Estimate Std. Error t value Pr(>|t|)    \n",
       "(Intercept) -3.4741002 10.9813903  -0.316  0.75518    \n",
       "X1          -2.9905703  1.8612765  -1.607  0.12461    \n",
       "X3           0.0032615  0.0005053   6.455 3.46e-06 ***\n",
       "X4          -0.0014778  0.0004820  -3.066  0.00636 ** \n",
       "---\n",
       "Signif. codes:  0 '***' 0.001 '**' 0.01 '*' 0.05 '.' 0.1 ' ' 1\n",
       "\n",
       "Residual standard error: 9.126 on 19 degrees of freedom\n",
       "Multiple R-squared:  0.8552,\tAdjusted R-squared:  0.8324 \n",
       "F-statistic: 37.41 on 3 and 19 DF,  p-value: 3.581e-08\n"
      ]
     },
     "metadata": {},
     "output_type": "display_data"
    }
   ],
   "source": [
    "# model nr 2\n",
    "model_2 <- lm(data = aircraft, Y~X1+X3+X4)\n",
    "summary(model_2)"
   ]
  },
  {
   "cell_type": "code",
   "execution_count": 24,
   "id": "a01e59fa",
   "metadata": {},
   "outputs": [
    {
     "data": {
      "text/plain": [
       "\n",
       "Call:\n",
       "lm(formula = Y ~ X3 + X4, data = aircraft)\n",
       "\n",
       "Residuals:\n",
       "     Min       1Q   Median       3Q      Max \n",
       "-18.9947  -3.2270   0.4554   4.2111  20.0868 \n",
       "\n",
       "Coefficients:\n",
       "              Estimate Std. Error t value Pr(>|t|)    \n",
       "(Intercept) -1.973e+01  4.438e+00  -4.445 0.000249 ***\n",
       "X3           3.314e-03  5.238e-04   6.328 3.55e-06 ***\n",
       "X4          -1.251e-03  4.787e-04  -2.613 0.016642 *  \n",
       "---\n",
       "Signif. codes:  0 '***' 0.001 '**' 0.01 '*' 0.05 '.' 0.1 ' ' 1\n",
       "\n",
       "Residual standard error: 9.48 on 20 degrees of freedom\n",
       "Multiple R-squared:  0.8356,\tAdjusted R-squared:  0.8191 \n",
       "F-statistic: 50.81 on 2 and 20 DF,  p-value: 1.447e-08\n"
      ]
     },
     "metadata": {},
     "output_type": "display_data"
    }
   ],
   "source": [
    "# model nr 3\n",
    "model_3 <- lm(data = aircraft, Y~X3+X4)\n",
    "summary(model_3)"
   ]
  },
  {
   "cell_type": "markdown",
   "id": "c21f15ca",
   "metadata": {},
   "source": [
    "Ostateczny wybór padł jednak na model 1. Postanowiono go przyjąć na poziomie\n",
    "istotności α=0,1, dzięki czemu wszystkie zmienne okazały się istotne i trafiły do modelu. <br>\n",
    "Skorygowany R2 dla modelu 1 wyniósł 85%, co jest wynikiem lepszym niż dla modelu 3 (81%). <br>\n",
    "Większa liczba zmiennych, a co za tym idzie większa ilość zawartych informacji sprawiły\n",
    "przeważyły szalę zwycięstwa na stronę modelu 1. <br> Współczynnik R\n",
    "2 wyniósł 88% co świadczy\n",
    "o bardzo dobrym dopasowaniu danych do modelu. <br>Ostateczny model prezentuje się\n",
    "następująco: <br>\n",
    "𝑌 = −3,853 X1 + 2,488 X2 + 0,003 X3 – 0,002 X4"
   ]
  },
  {
   "cell_type": "markdown",
   "id": "4a814422",
   "metadata": {},
   "source": [
    "• Wraz ze wzrostem Aspect ratio o 1 jednostke, cena samolotu maleje o '385 000dol' ceteris paribus; <br> \n",
    "• Wraz ze wzrostem Lift-to-Drag Ratio o 1 jednostke, cena samolotu wzrasta o '248 800dol' ceteris paribus; <br>\n",
    "• Wraz ze wzrostem wagi samolotu o 1 funt, cena samolotu wzrasta o 300dol ceteris\n",
    "paribus; <br>\n",
    "• Wraz ze wzrostem maksymalnego ciągu o 1 jednostkę, cena samolotu wzrasta o 200dol\n",
    "ceteris paribus; <br>"
   ]
  },
  {
   "cell_type": "markdown",
   "id": "c9113c49",
   "metadata": {},
   "source": [
    "### Wykres diagnostyczny do modelu nr 1"
   ]
  },
  {
   "cell_type": "code",
   "execution_count": 33,
   "id": "db37d4b0",
   "metadata": {
    "scrolled": true
   },
   "outputs": [
    {
     "data": {
      "image/png": "[encoded data removed]",
      "text/plain": [
       "Plot with title \"Wykres reszt modelu 1\""
      ]
     },
     "metadata": {},
     "output_type": "display_data"
    }
   ],
   "source": [
    "plot(model_1$residuals,\n",
    "     main = 'Wykres reszt modelu 1',\n",
    "     ylab = 'Reszty',\n",
    "     col = 'cadetblue2', lwd=15)"
   ]
  },
  {
   "cell_type": "markdown",
   "id": "9da49707",
   "metadata": {},
   "source": [
    "W celu statystycznego potwierdzenia normalności reszt rozkładu, został przeprowadzony test\n",
    "Shapiro-wilka."
   ]
  },
  {
   "cell_type": "code",
   "execution_count": 34,
   "id": "24c7cbc4",
   "metadata": {},
   "outputs": [
    {
     "data": {
      "text/plain": [
       "\n",
       "\tShapiro-Wilk normality test\n",
       "\n",
       "data:  model_1$residuals\n",
       "W = 0.97007, p-value = 0.6908\n"
      ]
     },
     "metadata": {},
     "output_type": "display_data"
    }
   ],
   "source": [
    "shapiro.test(model_1$residuals)"
   ]
  },
  {
   "cell_type": "markdown",
   "id": "4ef6461a",
   "metadata": {},
   "source": [
    "Wartość p jest zdecydowanie wyższa od przyjętego poziomu istotności α=0,1. Potwierdza to\n",
    "przypuszczenia płynące z wykresu – rozkład reszt jest normalny."
   ]
  },
  {
   "cell_type": "markdown",
   "id": "25d6d9cf",
   "metadata": {},
   "source": [
    "### Obliczenie MAE i MSE"
   ]
  },
  {
   "cell_type": "code",
   "execution_count": 35,
   "id": "9404d239",
   "metadata": {},
   "outputs": [
    {
     "data": {
      "text/html": [
       "5.68557288673061"
      ],
      "text/latex": [
       "5.68557288673061"
      ],
      "text/markdown": [
       "5.68557288673061"
      ],
      "text/plain": [
       "[1] 5.685573"
      ]
     },
     "metadata": {},
     "output_type": "display_data"
    },
    {
     "data": {
      "text/html": [
       "7.4362292792485"
      ],
      "text/latex": [
       "7.4362292792485"
      ],
      "text/markdown": [
       "7.4362292792485"
      ],
      "text/plain": [
       "[1] 7.436229"
      ]
     },
     "metadata": {},
     "output_type": "display_data"
    }
   ],
   "source": [
    "sum_reszt <- sum(abs(model_1$residuals))\n",
    "n <- 23\n",
    "\n",
    "MAE <- sum_reszt/n\n",
    "MAE\n",
    "\n",
    "kwa_reszt <- sum(model_1$residuals^2)\n",
    "\n",
    "MSE <- kwa_reszt/n\n",
    "sqrt(MSE)\n"
   ]
  },
  {
   "cell_type": "markdown",
   "id": "02d525ea",
   "metadata": {},
   "source": [
    "### weryfikacja istnienia problemu współliniowości <br>\n",
    "\n",
    "### wyniki ols_regress {olsrr}"
   ]
  },
  {
   "cell_type": "code",
   "execution_count": 36,
   "id": "6d15b434",
   "metadata": {},
   "outputs": [
    {
     "data": {
      "text/plain": [
       "                        Model Summary                          \n",
       "--------------------------------------------------------------\n",
       "R                       0.940       RMSE                8.406 \n",
       "R-Squared               0.884       Coef. Var          41.353 \n",
       "Adj. R-Squared          0.858       MSE                70.658 \n",
       "Pred R-Squared          0.714       MAE                 5.686 \n",
       "--------------------------------------------------------------\n",
       " RMSE: Root Mean Square Error \n",
       " MSE: Mean Square Error \n",
       " MAE: Mean Absolute Error \n",
       "\n",
       "                                ANOVA                                 \n",
       "---------------------------------------------------------------------\n",
       "                 Sum of                                              \n",
       "                Squares        DF    Mean Square      F         Sig. \n",
       "---------------------------------------------------------------------\n",
       "Regression     9658.453         4       2414.613    34.173    0.0000 \n",
       "Residual       1271.843        18         70.658                     \n",
       "Total         10930.295        22                                    \n",
       "---------------------------------------------------------------------\n",
       "\n",
       "                                   Parameter Estimates                                    \n",
       "-----------------------------------------------------------------------------------------\n",
       "      model      Beta    Std. Error    Std. Beta      t        Sig       lower     upper \n",
       "-----------------------------------------------------------------------------------------\n",
       "(Intercept)    -3.791        10.116                 -0.375    0.712    -25.044    17.461 \n",
       "         X1    -3.853         1.763       -0.244    -2.185    0.042     -7.557    -0.149 \n",
       "         X2     2.488         1.187        0.202     2.097    0.050     -0.005     4.982 \n",
       "         X3     0.003         0.000        1.498     7.305    0.000      0.002     0.005 \n",
       "         X4    -0.002         0.000       -0.915    -3.918    0.001     -0.003    -0.001 \n",
       "-----------------------------------------------------------------------------------------"
      ]
     },
     "metadata": {},
     "output_type": "display_data"
    }
   ],
   "source": [
    "ols_regress(data = aircraft, Y~X1+X2+X3+X4)"
   ]
  },
  {
   "cell_type": "markdown",
   "id": "6e70bcf7",
   "metadata": {},
   "source": [
    "### Tolerancja i VIF (Variance Inflation Factor)"
   ]
  },
  {
   "cell_type": "markdown",
   "id": "da7ef511",
   "metadata": {},
   "source": [
    "### Ocena współliniowości"
   ]
  },
  {
   "cell_type": "code",
   "execution_count": 38,
   "id": "8f21364e",
   "metadata": {},
   "outputs": [
    {
     "data": {
      "text/plain": [
       "Tolerance and Variance Inflation Factor\n",
       "---------------------------------------\n",
       "  Variables Tolerance      VIF\n",
       "1        X1 0.5188004 1.927524\n",
       "2        X2 0.6985447 1.431548\n",
       "3        X3 0.1538220 6.501019\n",
       "4        X4 0.1185881 8.432547\n",
       "\n",
       "\n",
       "Eigenvalue and Condition Index\n",
       "------------------------------\n",
       "  Eigenvalue Condition Index   intercept          X1          X2          X3\n",
       "1 4.34724160        1.000000 0.001492489 0.002377524 0.008934543 0.001555902\n",
       "2 0.42605520        3.194287 0.006342241 0.066585006 0.002825651 0.010252378\n",
       "3 0.18946152        4.790120 0.007955830 0.004244203 0.823526993 0.020756835\n",
       "4 0.01964006       14.877690 0.981504002 0.833682340 0.002117784 0.110608991\n",
       "5 0.01760163       15.715583 0.002705439 0.093110927 0.162595029 0.856825895\n",
       "           X4\n",
       "1 0.001588325\n",
       "2 0.022364760\n",
       "3 0.005470407\n",
       "4 0.010269280\n",
       "5 0.960307229"
      ]
     },
     "metadata": {},
     "output_type": "display_data"
    }
   ],
   "source": [
    "ols_coll_diag(model_1)\n",
    "### dla wyrzu wolnego, X1, X2 Condition Index ponizej 10, czyli ok\n",
    "### dla X3, X4 Condition Index <10;30>, wiec nalezy sie przyjrzec"
   ]
  },
  {
   "cell_type": "markdown",
   "id": "31a8586e",
   "metadata": {},
   "source": [
    "Dla wyrazu wolnego oraz zmiennych X1, X2 Condition Index wynosi mniej niż 10, co jest\n",
    "uznawane za dobry znak.<br> Natomiast dla zmiennych X3, X4 Condition Index znajduje się w\n",
    "przedziale <10; 30>, a co za tym idzie należy się bliżej przyjrzeć tym zmiennym. <br>Możliwe\n",
    "wystąpienie współliniowości. "
   ]
  },
  {
   "cell_type": "code",
   "execution_count": 37,
   "id": "cd9fe3a2",
   "metadata": {
    "scrolled": true
   },
   "outputs": [
    {
     "data": {
      "text/html": [
       "<table>\n",
       "<thead><tr><th scope=col>Variables</th><th scope=col>Tolerance</th><th scope=col>VIF</th></tr></thead>\n",
       "<tbody>\n",
       "\t<tr><td>X1       </td><td>0.5188004</td><td>1.927524 </td></tr>\n",
       "\t<tr><td>X2       </td><td>0.6985447</td><td>1.431548 </td></tr>\n",
       "\t<tr><td>X3       </td><td>0.1538220</td><td>6.501019 </td></tr>\n",
       "\t<tr><td>X4       </td><td>0.1185881</td><td>8.432547 </td></tr>\n",
       "</tbody>\n",
       "</table>\n"
      ],
      "text/latex": [
       "\\begin{tabular}{r|lll}\n",
       " Variables & Tolerance & VIF\\\\\n",
       "\\hline\n",
       "\t X1        & 0.5188004 & 1.927524 \\\\\n",
       "\t X2        & 0.6985447 & 1.431548 \\\\\n",
       "\t X3        & 0.1538220 & 6.501019 \\\\\n",
       "\t X4        & 0.1185881 & 8.432547 \\\\\n",
       "\\end{tabular}\n"
      ],
      "text/markdown": [
       "\n",
       "| Variables | Tolerance | VIF |\n",
       "|---|---|---|\n",
       "| X1        | 0.5188004 | 1.927524  |\n",
       "| X2        | 0.6985447 | 1.431548  |\n",
       "| X3        | 0.1538220 | 6.501019  |\n",
       "| X4        | 0.1185881 | 8.432547  |\n",
       "\n"
      ],
      "text/plain": [
       "  Variables Tolerance VIF     \n",
       "1 X1        0.5188004 1.927524\n",
       "2 X2        0.6985447 1.431548\n",
       "3 X3        0.1538220 6.501019\n",
       "4 X4        0.1185881 8.432547"
      ]
     },
     "metadata": {},
     "output_type": "display_data"
    }
   ],
   "source": [
    "ols_vif_tol(model_1)\n",
    "### dla zadnej zmiennej tolerancja nie jest mniejsza niz 0,1 a wiec nie wystepuje problem z wspolliniowoscia\n",
    "### dla wszystkich zmiennych wartosci VIF sa ponizej 10"
   ]
  },
  {
   "cell_type": "markdown",
   "id": "2534a474",
   "metadata": {},
   "source": [
    "Dla żadnej ze zmiennych tolerancja nie jest mniejsza niż 0,1, a więc nie występuje problem\n",
    "z współliniowością. <br> Również dla wszystkich zmiennych wartości statystyki VIF są poniżej 10.\n",
    "Wartości Tolerance i VIF pozwalają odrzucić poprzednie przypuszczenie dotyczące\n",
    "współliniowości.<br>\n",
    "W przypadku modelu 1 nie występuje współliniowość.\n"
   ]
  },
  {
   "cell_type": "markdown",
   "id": "56a0404e",
   "metadata": {},
   "source": [
    "### Identyfikacja obserwacji odstających, o wysokiej dźwigni, wpływowych."
   ]
  },
  {
   "cell_type": "code",
   "execution_count": 40,
   "id": "ca826ef8",
   "metadata": {},
   "outputs": [
    {
     "data": {
      "image/png": "[encoded data removed]",
      "text/plain": [
       "plot without title"
      ]
     },
     "metadata": {},
     "output_type": "display_data"
    }
   ],
   "source": [
    "ols_plot_resid_stand(model_1)"
   ]
  },
  {
   "cell_type": "markdown",
   "id": "028206e7",
   "metadata": {},
   "source": [
    "Na wykresie standaryzowanych reszt można zaobserwować jedną obserwację odstającą. Jest to\n",
    "obserwacja nr 22."
   ]
  },
  {
   "cell_type": "code",
   "execution_count": 41,
   "id": "af9faea0",
   "metadata": {
    "scrolled": false
   },
   "outputs": [
    {
     "data": {
      "image/png": "[encoded data removed]",
      "text/plain": [
       "plot without title"
      ]
     },
     "metadata": {},
     "output_type": "display_data"
    }
   ],
   "source": [
    "ols_plot_resid_lev(model_1)"
   ]
  },
  {
   "cell_type": "markdown",
   "id": "e0c875e5",
   "metadata": {},
   "source": [
    "Powyższy wykres pozwala zaobserwować, że pośród danych są dwie obserwacje o wysokiej\n",
    "dźwigni (nr 14 i nr 22) oraz, że jedna z nich jest również obserwacją odstająca (nr 22)."
   ]
  },
  {
   "cell_type": "code",
   "execution_count": 42,
   "id": "406754f8",
   "metadata": {},
   "outputs": [
    {
     "data": {
      "image/png": "[encoded data removed]",
      "text/plain": [
       "plot without title"
      ]
     },
     "metadata": {},
     "output_type": "display_data"
    }
   ],
   "source": [
    "plot(cooks.distance(model_1))"
   ]
  },
  {
   "cell_type": "markdown",
   "id": "c7f805e4",
   "metadata": {},
   "source": [
    "Na wykresie odległości Cooke’a można zauważyć, że po raz kolejny obserwacja nr 22 jest\n",
    "obserwacją odstającą oraz obserwacja nr 17 wyróżnia się bardziej niż reszta. W celu\n",
    "zweryfikowania czy jest odstająca został wykonany kolejny wykres."
   ]
  },
  {
   "cell_type": "code",
   "execution_count": 44,
   "id": "7edf9bd4",
   "metadata": {},
   "outputs": [
    {
     "data": {
      "image/png": "[encoded data removed]",
      "text/plain": [
       "plot without title"
      ]
     },
     "metadata": {},
     "output_type": "display_data"
    }
   ],
   "source": [
    "ols_plot_cooksd_bar(model_1)"
   ]
  },
  {
   "cell_type": "markdown",
   "id": "e54091bd",
   "metadata": {},
   "source": [
    "Powyższy wykres obserwację nr 17 jako odstającą, co nie pokrywa się z poprzednimi\n",
    "wykresami, a więc ciężko jednoznacznie określić ją mianem outlier’a."
   ]
  },
  {
   "cell_type": "markdown",
   "id": "6e383a47",
   "metadata": {},
   "source": [
    "## Wnioski końcowe <br>\n",
    "Analiza regresji oraz stworzenie modelu ekonometrycznego pozwoliło stwierdzić, że\n",
    "największy wpływ na cenę jednosilnikowych samolotów produkowanych w latach 1947 – 1979\n",
    "miały zmienne: <br> Aspect ratio (pl. wydłużenie płata) i Lift-to-Drag Ratio (pl. doskonałość\n",
    "aerodynamiczna). <br> Wzrost pierwszej z nich sprawia, że cena samolotu spada. <br> Jest to\n",
    "spowodowane faktem, że najwyższe wartości Aspect ratio odnotowywane są w samolotach\n",
    "typu: szybowiec, które są relatywnie tańsze. <br> Druga ze zmiennych wpływa natomiast na zmienną\n",
    "objaśnianą proporcjonalnie. Wraz ze wzrostem Lift-to-Drag Ratio wzrasta również cena\n",
    "samolotu ceteris paribus.<br> Zmiennymi, które również wpływają na cenę jednosilnikowych\n",
    "samolotów, lecz nie w tak znacznym stopniu są jego waga oraz maksymalny ciąg. <br>\n",
    "Wykonany model ekonometryczny można uznać za poprawny, ponieważ jego reszty posiadają\n",
    "rozkład normalny oraz nie występuje heteroskedastyczność. Dalsza analiza wykazała również,\n",
    "że nie występuje współliniowość. <br>\n",
    "Identyfikacja obserwacji odstających, o wysokiej dźwigni, wpływowych wykazała, że w\n",
    "zbiorze danych występują dwie obserwacje o wysokiej dźwigni (nr 14 i nr 22). Oznacza to, że\n",
    "mają one silny wpływ na resztę obserwacji.<br> Dodatkowo obserwacja nr 22 jest również\n",
    "outlier’em (obserwacją odstającą). Podejrzaną o bycie obserwacją odstającą jest również\n",
    "obserwacja nr 17, jednakże znajduje się ona na granicy i raz jest klasyfikowana jako outlier, a\n",
    "raz nie, dlatego ciężko podjąć ostateczną decyzję, gdzie ją przypisać."
   ]
  }
 ],
 "metadata": {
  "kernelspec": {
   "display_name": "R",
   "language": "R",
   "name": "ir"
  },
  "language_info": {
   "codemirror_mode": "r",
   "file_extension": ".r",
   "mimetype": "text/x-r-source",
   "name": "R",
   "pygments_lexer": "r",
   "version": "3.6.1"
  }
 },
 "nbformat": 4,
 "nbformat_minor": 5
}
